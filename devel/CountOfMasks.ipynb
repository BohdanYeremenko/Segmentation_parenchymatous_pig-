{
 "cells": [
  {
   "cell_type": "code",
   "execution_count": 1,
   "id": "7f81e84b-3fdd-4315-8215-71533a018d51",
   "metadata": {},
   "outputs": [],
   "source": [
    "from PIL import Image\n",
    "import skimage\n",
    "import sklearn\n",
    "import numpy as np\n",
    "import matplotlib.pyplot as plt\n",
    "from pathlib import Path\n",
    "import re # balik pro regularni vyrazy"
   ]
  },
  {
   "cell_type": "code",
   "execution_count": 2,
   "id": "1287ca9b-4294-437c-b938-ae2fa57aa9a0",
   "metadata": {},
   "outputs": [],
   "source": [
    "def count_of_masks(cesta, counts):\n",
    "    #cesta=Path(r\"D:\\DIPLOM\\Experimenty!\\Dataset\\pigcoco2\\annotations\\Try1\\Testovani\\Left Kidney\")\n",
    "    mask_count=0\n",
    "    zero_count=0\n",
    "    seznam=list(cesta.glob(\"*.PNG\"))\n",
    "    for filename in seznam:\n",
    "        cislo=filename.stem[-9:-4]\n",
    "\n",
    "        image=skimage.io.imread(filename, as_gray=True)\n",
    "        je_li_v_img_gt_organ=(np.sum(image))\n",
    "        #print(je_li_v_img_gt_organ)\n",
    "\n",
    "        if je_li_v_img_gt_organ==0:\n",
    "            zero_count=zero_count+1\n",
    "            #print(cislo)\n",
    "        else:\n",
    "            mask_count=mask_count+1\n",
    "    cesta1=cesta.stem       \n",
    "    cesta2=cesta.parents[0].stem\n",
    "    cesta1=cesta.stem\n",
    "\n",
    "    cesta2=cesta.parents[0].stem\n",
    "\n",
    "    cestaSTR1=str(cesta1)+\": \"+str(cesta2)+\": withMask\"\n",
    "    cestaSTR2=str(cesta1)+\": \"+str(cesta2)+\": withoutMask\"\n",
    "    counts[cestaSTR1]=mask_count\n",
    "    counts[cestaSTR2]=zero_count"
   ]
  },
  {
   "cell_type": "code",
   "execution_count": 3,
   "id": "5a236237-64c7-4dad-b4b9-bec07f418ddd",
   "metadata": {},
   "outputs": [],
   "source": [
    "counts={}\n",
    "cesta=[]\n",
    "cesta.append(Path(r\"D:\\DIPLOM\\Experimenty!\\Dataset\\pigcoco2\\annotations\\Try1\\Testovani\\Left Kidney\"))\n",
    "cesta.append(Path(r\"D:\\DIPLOM\\Experimenty!\\Dataset\\pigcoco2\\annotations\\Try1\\Testovani\\Right Kidney\"))\n",
    "cesta.append(Path(r\"D:\\DIPLOM\\Experimenty!\\Dataset\\pigcoco2\\annotations\\Try1\\Testovani\\Liver\"))\n",
    "cesta.append(Path(r\"D:\\DIPLOM\\Experimenty!\\Dataset\\pigcoco2\\annotations\\Try1\\Trenovani\\Left Kidney\"))\n",
    "cesta.append(Path(r\"D:\\DIPLOM\\Experimenty!\\Dataset\\pigcoco2\\annotations\\Try1\\Trenovani\\Right Kidney\"))\n",
    "cesta.append(Path(r\"D:\\DIPLOM\\Experimenty!\\Dataset\\pigcoco2\\annotations\\Try1\\Trenovani\\Liver\"))\n",
    "cesta.append(Path(r\"D:\\DIPLOM\\Experimenty!\\Dataset\\pigcoco2\\annotations\\Try1\\Validace\\Left Kidney\"))\n",
    "cesta.append(Path(r\"D:\\DIPLOM\\Experimenty!\\Dataset\\pigcoco2\\annotations\\Try1\\Validace\\Right Kidney\"))\n",
    "cesta.append(Path(r\"D:\\DIPLOM\\Experimenty!\\Dataset\\pigcoco2\\annotations\\Try1\\Validace\\Liver\"))\n",
    "for path in cesta:\n",
    "    Fin=count_of_masks(path, counts)"
   ]
  },
  {
   "cell_type": "code",
   "execution_count": 4,
   "id": "e01dd09a-13ed-45e5-8ea6-45f819f97c7c",
   "metadata": {},
   "outputs": [
    {
     "data": {
      "text/plain": [
       "{'Left Kidney: Testovani: withMask': 238,\n",
       " 'Left Kidney: Testovani: withoutMask': 1428,\n",
       " 'Right Kidney: Testovani: withMask': 239,\n",
       " 'Right Kidney: Testovani: withoutMask': 1427,\n",
       " 'Liver: Testovani: withMask': 433,\n",
       " 'Liver: Testovani: withoutMask': 1233,\n",
       " 'Left Kidney: Trenovani: withMask': 1153,\n",
       " 'Left Kidney: Trenovani: withoutMask': 8211,\n",
       " 'Right Kidney: Trenovani: withMask': 1089,\n",
       " 'Right Kidney: Trenovani: withoutMask': 8275,\n",
       " 'Liver: Trenovani: withMask': 1749,\n",
       " 'Liver: Trenovani: withoutMask': 7615,\n",
       " 'Left Kidney: Validace: withMask': 248,\n",
       " 'Left Kidney: Validace: withoutMask': 1708,\n",
       " 'Right Kidney: Validace: withMask': 242,\n",
       " 'Right Kidney: Validace: withoutMask': 1714,\n",
       " 'Liver: Validace: withMask': 387,\n",
       " 'Liver: Validace: withoutMask': 1569}"
      ]
     },
     "execution_count": 4,
     "metadata": {},
     "output_type": "execute_result"
    }
   ],
   "source": [
    "counts"
   ]
  },
  {
   "cell_type": "code",
   "execution_count": null,
   "id": "1c0bcb6f-d2df-4014-9470-df237db44c79",
   "metadata": {},
   "outputs": [],
   "source": []
  }
 ],
 "metadata": {
  "kernelspec": {
   "display_name": "Python 3 (ipykernel)",
   "language": "python",
   "name": "python3"
  },
  "language_info": {
   "codemirror_mode": {
    "name": "ipython",
    "version": 3
   },
   "file_extension": ".py",
   "mimetype": "text/x-python",
   "name": "python",
   "nbconvert_exporter": "python",
   "pygments_lexer": "ipython3",
   "version": "3.9.13"
  }
 },
 "nbformat": 4,
 "nbformat_minor": 5
}
