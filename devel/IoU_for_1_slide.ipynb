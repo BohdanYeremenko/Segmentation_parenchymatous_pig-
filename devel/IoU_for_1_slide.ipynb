{
 "cells": [
  {
   "cell_type": "code",
   "execution_count": 1,
   "id": "1d6bf3ed-1d93-4e30-80cc-8aca404dc478",
   "metadata": {},
   "outputs": [],
   "source": [
    "from PIL import Image\n",
    "import skimage\n",
    "import sklearn\n",
    "import numpy as np\n",
    "import matplotlib.pyplot as plt"
   ]
  },
  {
   "cell_type": "code",
   "execution_count": 2,
   "id": "813ec8ba-3d9f-401c-983a-1d08d8e5b79f",
   "metadata": {},
   "outputs": [],
   "source": [
    "def Intersection_Over_Union (mask_result, mask_true):\n",
    "    intersection=np.sum((mask_result+mask_true)==2)\n",
    "    union=(np.sum((mask_result+mask_true)==1) + np.sum((mask_result+mask_true)==2))\n",
    "    if intersection==0 and union==0:\n",
    "        IoU=1\n",
    "    else:\n",
    "        IoU = np.sum((mask_result+mask_true)==2) /  (np.sum((mask_result+mask_true)==1) + np.sum((mask_result+mask_true)==2) )\n",
    "    return IoU"
   ]
  },
  {
   "cell_type": "code",
   "execution_count": 3,
   "id": "adf5c6c6-e1bf-44b2-b312-619e0491d26c",
   "metadata": {},
   "outputs": [],
   "source": [
    "from pathlib import Path\n",
    "import re # balik pro regularni vyrazy\n",
    "cesta_GT=Path(r\"D:\\Experimenty\\Masky\\Ucitel\\Testovani\\Liver\\MaskOfPig_Tx025D_Vensoubor_00182.jpg.PNG\")\n",
    "cesta_exp=Path(r\"D:\\Experimenty\\40000Iter_0.001Uceni\\vis_predictions_mask\\2\\Tx025D_Vensoubor_00182.jpg\")\n",
    "cislo=cesta_GT.stem[-9:-4]\n",
    "jmeno=cesta_GT.stem[10:15]\n",
    "filename_exp=cesta_exp /f\"{jmeno}D_Vensoubor_{cislo}.jpg\"\n",
    "\n",
    "img_gt=skimage.io.imread(cesta_GT, as_gray=True)\n",
    "img_exp=skimage.io.imread(cesta_exp, as_gray=True)   \n",
    "arr_img_exp = (np.array(img_exp)>128).astype(np.uint8)\n",
    "IoU=Intersection_Over_Union (img_gt, arr_img_exp)"
   ]
  },
  {
   "cell_type": "code",
   "execution_count": 13,
   "id": "1e63b7e5-daa2-4188-b831-ab39c8ce444c",
   "metadata": {},
   "outputs": [
    {
     "data": {
      "text/plain": [
       "0.8226239231746928"
      ]
     },
     "execution_count": 16,
     "metadata": {},
     "output_type": "execute_result"
    }
   ],
   "source": [
    "IoU"
   ]
  },
  {
   "cell_type": "code",
   "execution_count": null,
   "id": "71a54870-38bb-4dac-9bd7-6c12ac0e57a3",
   "metadata": {},
   "outputs": [],
   "source": []
  }
 ],
 "metadata": {
  "kernelspec": {
   "display_name": "Python 3 (ipykernel)",
   "language": "python",
   "name": "python3"
  },
  "language_info": {
   "codemirror_mode": {
    "name": "ipython",
    "version": 3
   },
   "file_extension": ".py",
   "mimetype": "text/x-python",
   "name": "python",
   "nbconvert_exporter": "python",
   "pygments_lexer": "ipython3",
   "version": "3.9.13"
  }
 },
 "nbformat": 4,
 "nbformat_minor": 5
}
