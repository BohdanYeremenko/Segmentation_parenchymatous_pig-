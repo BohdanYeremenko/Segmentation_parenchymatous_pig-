{
 "cells": [
  {
   "cell_type": "code",
   "execution_count": 1,
   "metadata": {
    "_cell_guid": "b1076dfc-b9ad-4769-8c92-a6c4dae69d19",
    "_uuid": "8f2839f25d086af736a60e9eeb907d3b93b6e0e5",
    "execution": {
     "iopub.execute_input": "2023-08-06T12:23:06.858395Z",
     "iopub.status.busy": "2023-08-06T12:23:06.858010Z",
     "iopub.status.idle": "2023-08-06T12:23:24.183923Z",
     "shell.execute_reply": "2023-08-06T12:23:24.182628Z",
     "shell.execute_reply.started": "2023-08-06T12:23:06.858360Z"
    }
   },
   "outputs": [
    {
     "name": "stdout",
     "output_type": "stream",
     "text": [
      "Collecting io3d\n",
      "  Downloading io3d-2.10.6-py3-none-any.whl (80 kB)\n",
      "\u001b[2K     \u001b[90m━━━━━━━━━━━━━━━━━━━━━━━━━━━━━━━━━━━━━━━━\u001b[0m \u001b[32m80.5/80.5 kB\u001b[0m \u001b[31m3.1 MB/s\u001b[0m eta \u001b[36m0:00:00\u001b[0m\n",
      "\u001b[?25hCollecting sed3\n",
      "  Downloading sed3-1.4.3.tar.gz (17 kB)\n",
      "  Preparing metadata (setup.py) ... \u001b[?25ldone\n",
      "\u001b[?25hCollecting loguru\n",
      "  Downloading loguru-0.7.0-py3-none-any.whl (59 kB)\n",
      "\u001b[2K     \u001b[90m━━━━━━━━━━━━━━━━━━━━━━━━━━━━━━━━━━━━━━━━\u001b[0m \u001b[32m60.0/60.0 kB\u001b[0m \u001b[31m6.6 MB/s\u001b[0m eta \u001b[36m0:00:00\u001b[0m\n",
      "\u001b[?25hRequirement already satisfied: pydicom in /opt/conda/lib/python3.10/site-packages (2.4.1)\n",
      "Requirement already satisfied: SimpleITK in /opt/conda/lib/python3.10/site-packages (2.2.1)\n",
      "Collecting imma\n",
      "  Downloading imma-0.17.4.tar.gz (23 kB)\n",
      "  Preparing metadata (setup.py) ... \u001b[?25ldone\n",
      "\u001b[?25hRequirement already satisfied: ruamel.yaml in /opt/conda/lib/python3.10/site-packages (0.17.32)\n",
      "Requirement already satisfied: pandas in /opt/conda/lib/python3.10/site-packages (1.5.3)\n",
      "Requirement already satisfied: ruamel.yaml.clib>=0.2.7 in /opt/conda/lib/python3.10/site-packages (from ruamel.yaml) (0.2.7)\n",
      "Requirement already satisfied: python-dateutil>=2.8.1 in /opt/conda/lib/python3.10/site-packages (from pandas) (2.8.2)\n",
      "Requirement already satisfied: pytz>=2020.1 in /opt/conda/lib/python3.10/site-packages (from pandas) (2023.3)\n",
      "Requirement already satisfied: numpy>=1.21.0 in /opt/conda/lib/python3.10/site-packages (from pandas) (1.23.5)\n",
      "Requirement already satisfied: six>=1.5 in /opt/conda/lib/python3.10/site-packages (from python-dateutil>=2.8.1->pandas) (1.16.0)\n",
      "Building wheels for collected packages: sed3, imma\n",
      "  Building wheel for sed3 (setup.py) ... \u001b[?25ldone\n",
      "\u001b[?25h  Created wheel for sed3: filename=sed3-1.4.3-py3-none-any.whl size=11721 sha256=59931bc36b5ef93afef5b42ec4a1f7dd92daa6304c02cc347271277ad9ae7ba4\n",
      "  Stored in directory: /root/.cache/pip/wheels/03/b5/bb/ddcf4d8708d9a93f42aa605947c9bfe90da1e4634bfc3956ef\n",
      "  Building wheel for imma (setup.py) ... \u001b[?25ldone\n",
      "\u001b[?25h  Created wheel for imma: filename=imma-0.17.4-py3-none-any.whl size=25086 sha256=1639d2a34043cb55b427ef56611cb6973f99355ec82231ed91ce8477aa489f0c\n",
      "  Stored in directory: /root/.cache/pip/wheels/25/32/bd/e187f1cd2dfe4a3eb2d3ba9783c1c63fe8270e30fe8a5824a7\n",
      "Successfully built sed3 imma\n",
      "Installing collected packages: sed3, io3d, imma, loguru\n",
      "Successfully installed imma-0.17.4 io3d-2.10.6 loguru-0.7.0 sed3-1.4.3\n"
     ]
    }
   ],
   "source": [
    "\n",
    "# !conda install -c mjirik -c simpleitk -c conda-forge io3d=2.10.6 sed3=1.6.3 simpleitk keras-applications\n",
    "!pip install io3d sed3 loguru pydicom SimpleITK imma ruamel.yaml pandas\n",
    "!pip install h5py\n",
    "!pip install --upgrade scipy"
   ]
  },
  {
   "cell_type": "code",
   "execution_count": 3,
   "metadata": {
    "execution": {
     "iopub.execute_input": "2023-08-07T14:42:47.217215Z",
     "iopub.status.busy": "2023-08-07T14:42:47.216621Z",
     "iopub.status.idle": "2023-08-07T14:42:59.274460Z",
     "shell.execute_reply": "2023-08-07T14:42:59.272740Z",
     "shell.execute_reply.started": "2023-08-07T14:42:47.217140Z"
    }
   },
   "outputs": [
    {
     "name": "stderr",
     "output_type": "stream",
     "text": [
      "/opt/conda/lib/python3.10/site-packages/scipy/__init__.py:146: UserWarning: A NumPy version >=1.16.5 and <1.23.0 is required for this version of SciPy (detected version 1.23.5\n",
      "  warnings.warn(f\"A NumPy version >={np_minversion} and <{np_maxversion}\"\n",
      "/opt/conda/lib/python3.10/site-packages/tensorflow_io/python/ops/__init__.py:98: UserWarning: unable to load libtensorflow_io_plugins.so: unable to open file: libtensorflow_io_plugins.so, from paths: ['/opt/conda/lib/python3.10/site-packages/tensorflow_io/python/ops/libtensorflow_io_plugins.so']\n",
      "caused by: ['/opt/conda/lib/python3.10/site-packages/tensorflow_io/python/ops/libtensorflow_io_plugins.so: undefined symbol: _ZN3tsl6StatusC1EN10tensorflow5error4CodeESt17basic_string_viewIcSt11char_traitsIcEENS_14SourceLocationE']\n",
      "  warnings.warn(f\"unable to load libtensorflow_io_plugins.so: {e}\")\n",
      "/opt/conda/lib/python3.10/site-packages/tensorflow_io/python/ops/__init__.py:104: UserWarning: file system plugins are not loaded: unable to open file: libtensorflow_io.so, from paths: ['/opt/conda/lib/python3.10/site-packages/tensorflow_io/python/ops/libtensorflow_io.so']\n",
      "caused by: ['/opt/conda/lib/python3.10/site-packages/tensorflow_io/python/ops/libtensorflow_io.so: undefined symbol: _ZTVN10tensorflow13GcsFileSystemE']\n",
      "  warnings.warn(f\"file system plugins are not loaded: {e}\")\n"
     ]
    }
   ],
   "source": [
    "\n",
    "from __future__ import print_function\n",
    "import cv2\n",
    "import tensorflow as tf\n",
    "import os\n",
    "from skimage.transform import resize\n",
    "from skimage.io import imsave\n",
    "import numpy as np\n",
    "from tensorflow.keras.models import Model\n",
    "from tensorflow.keras.layers import Input, concatenate, Conv2D, MaxPooling2D, Conv2DTranspose\n",
    "from tensorflow.keras.optimizers import Adam, SGD\n",
    "from tensorflow.keras.callbacks import ModelCheckpoint\n",
    "from tensorflow.keras import backend as K\n",
    "from tensorflow.keras.callbacks import History\n",
    "from skimage.exposure import rescale_intensity\n",
    "from skimage import io\n",
    "from sklearn.utils import class_weight\n",
    "import pandas as pd\n",
    "import tensorflow as tf\n",
    "from loguru import logger\n",
    "import sed3\n",
    "import numpy as np\n",
    "import matplotlib.pyplot as plt\n",
    "logger.enable(\"io3d\")\n",
    "logger.disable(\"io3d\")\n",
    "import matplotlib.pyplot as plt\n",
    "import h5py\n",
    "import json\n",
    "from pathlib import Path\n",
    "import requests\n",
    "from tqdm import tqdm\n",
    "from numbers import Number\n",
    "from typing import Optional\n",
    "from glob import glob\n",
    "import skimage\n",
    "import sys\n",
    "import os\n",
    "import random\n",
    "print(sys.version_info)\n",
    "print(sys.executable)\n",
    "print(os.getcwd())"
   ]
  },
  {
   "cell_type": "code",
   "execution_count": 4,
   "metadata": {
    "execution": {
     "iopub.execute_input": "2023-08-07T14:42:59.278705Z",
     "iopub.status.busy": "2023-08-07T14:42:59.277748Z",
     "iopub.status.idle": "2023-08-07T14:42:59.286598Z",
     "shell.execute_reply": "2023-08-07T14:42:59.284501Z",
     "shell.execute_reply.started": "2023-08-07T14:42:59.278663Z"
    }
   },
   "outputs": [],
   "source": [
    "import h5py\n",
    "import skimage\n",
    "\n",
    "from __future__ import print_function\n",
    "\n",
    "import tensorflow as tf\n",
    "import os\n",
    "from skimage.transform import resize\n",
    "from skimage.io import imsave\n",
    "import numpy as np\n",
    "from tensorflow.keras.models import Model\n",
    "from tensorflow.keras.layers import Input, concatenate, Conv2D, MaxPooling2D, Conv2DTranspose\n",
    "from tensorflow.keras.optimizers import Adam, SGD\n",
    "from tensorflow.keras.callbacks import ModelCheckpoint\n",
    "from tensorflow.keras import backend as K\n",
    "from tensorflow.keras.callbacks import History\n",
    "from skimage.exposure import rescale_intensity\n",
    "from skimage import io\n",
    "from sklearn.utils import class_weight\n",
    "import pandas as pd\n",
    "import cv2\n",
    "import numpy as np\n",
    "import matplotlib.pyplot as plt\n",
    "import os\n",
    "from PIL import Image\n",
    "import keras\n",
    "from keras.models import Model\n",
    "from keras.layers import Conv2D, MaxPooling2D, Input, Conv2DTranspose, Concatenate, BatchNormalization, UpSampling2D\n",
    "from keras.layers import  Dropout, Activation\n",
    "from keras.optimizers import Adam, SGD\n",
    "# from keras.layers.advanced_activations import LeakyReLU\n",
    "from keras.layers import LeakyReLU\n",
    "from keras.callbacks import ModelCheckpoint, ReduceLROnPlateau, EarlyStopping\n",
    "from keras import backend as K\n",
    "from keras.utils import plot_model\n",
    "import tensorflow as tf\n",
    "import glob\n",
    "import random\n",
    "#import cv2\n",
    "from random import shuffle\n",
    "from typing import Tuple"
   ]
  },
  {
   "cell_type": "markdown",
   "metadata": {},
   "source": [
    "# "
   ]
  },
  {
   "cell_type": "code",
   "execution_count": null,
   "metadata": {
    "execution": {
     "iopub.status.busy": "2023-08-07T14:43:00.079117Z",
     "iopub.status.idle": "2023-08-07T14:43:00.079589Z",
     "shell.execute_reply": "2023-08-07T14:43:00.079406Z",
     "shell.execute_reply.started": "2023-08-07T14:43:00.079385Z"
    }
   },
   "outputs": [],
   "source": [
    "def unzip(input_file:Path, output_dir=None):\n",
    "    from zipfile import ZipFile\n",
    "    with ZipFile(input_file,\"r\") as zip_ref:\n",
    "         for file in tqdm(\n",
    "             iterable=zip_ref.namelist(),\n",
    "             total=len(zip_ref.namelist()),\n",
    "             desc=str(Path(input_file).name)\n",
    "             ):\n",
    "              zip_ref.extract(member=file, path=output_dir)\n",
    "\n",
    "def classes_from_coco(annotation_file:Path):\n",
    "    with open(annotation_file) as f:\n",
    "        ann = json.load(f)\n",
    "    _, cfg_classes = zip(*sorted([(cat[\"id\"], cat[\"name\"]) for cat in ann[\"categories\"]]))\n",
    "    return cfg_classes\n",
    "\n",
    "def mywget(url, fname, force=False):\n",
    "    fname = Path(fname)\n",
    "    if fname.exists() and ~force:\n",
    "        print(f\"File already exists. Use force=True to owerwrite.\")\n",
    "        return\n",
    "    fname.parent.mkdir(parents=True, exist_ok=True)\n",
    "\n",
    "    response = requests.get(url, stream=True)\n",
    "    total_size_in_bytes= int(response.headers.get('content-length', 0))\n",
    "    block_size = 1024 #1 Kibibyte\n",
    "    progress_bar = tqdm(total=total_size_in_bytes, unit='iB', unit_scale=True)\n",
    "    with open(fname, 'wb') as file:\n",
    "        for data in response.iter_content(block_size):\n",
    "            progress_bar.update(len(data))\n",
    "            file.write(data)\n",
    "    progress_bar.close()\n",
    "    if total_size_in_bytes != 0 and progress_bar.n != total_size_in_bytes:\n",
    "        print(\"ERROR, something went wrong\")"
   ]
  },
  {
   "cell_type": "code",
   "execution_count": 7,
   "metadata": {
    "execution": {
     "iopub.execute_input": "2023-08-07T14:48:41.437870Z",
     "iopub.status.busy": "2023-08-07T14:48:41.437367Z",
     "iopub.status.idle": "2023-08-07T14:48:41.449463Z",
     "shell.execute_reply": "2023-08-07T14:48:41.448030Z",
     "shell.execute_reply.started": "2023-08-07T14:48:41.437827Z"
    }
   },
   "outputs": [],
   "source": [
    "K.set_image_data_format('channels_last')  # TF dimension ordering in this code\n",
    "\n",
    "img_rows = int(512/2)\n",
    "img_cols = int(512/2)\n",
    "smooth = 1.\n",
    "#We divide here the number of rows and columns by two because we undersample our data (We take one pixel over two)\n",
    "\n",
    "def dice_coef(y_true, y_pred):\n",
    "    y_true_f = K.flatten(y_true)\n",
    "    y_pred_f = K.flatten(y_pred)\n",
    "    intersection = K.sum(y_true_f * y_pred_f)\n",
    "    #Dice=(2. * intersection + smooth) / (K.sum(y_true_f) + K.sum(y_pred_f) + smooth)\n",
    "    #IoU = (Dice *(K.sum(y_true_f) + K.sum(y_pred_f) + smooth)) / (2 - Dice)\n",
    "    #print(\"Intersection over Union\")\n",
    "    #tensorflow .print(IoU)\n",
    "    return (2. * intersection + smooth) / (K.sum(y_true_f) + K.sum(y_pred_f) + smooth)\n",
    "def IoU(y_true, y_pred):\n",
    "    y_true_f = K.flatten(y_true)\n",
    "    y_pred_f = K.flatten(y_pred)\n",
    "    intersection = K.sum(y_true_f * y_pred_f)\n",
    "    union = K.sum(K.maximum(y_true_f, y_pred_f))\n",
    "    return(intersection/union)\n",
    "def dice_coef_loss(y_true, y_pred):\n",
    "    return -dice_coef(y_true, y_pred)\n",
    "def IoU2(y_true, y_pred):\n",
    "    return -IoU(y_true, y_pred)\n",
    "#The functions return our metric and loss"
   ]
  },
  {
   "cell_type": "code",
   "execution_count": 3,
   "metadata": {},
   "outputs": [
    {
     "name": "stdout",
     "output_type": "stream",
     "text": [
      "Num GPUs Available:  0\n"
     ]
    }
   ],
   "source": [
    "print(\"Num GPUs Available: \", len(tf.config.experimental.list_physical_devices('GPU')))"
   ]
  },
  {
   "cell_type": "code",
   "execution_count": 4,
   "metadata": {},
   "outputs": [],
   "source": [
    "def preprocess(imgs, is_mask=False):\n",
    "    imgs_p = np.ndarray((imgs.shape[0], img_rows, img_cols), dtype=np.uint8)\n",
    "    for i in range(imgs.shape[0]):\n",
    "        imgs_p[i] = resize(imgs[i], (img_cols, img_rows), preserve_range=True)\n",
    "\n",
    "    imgs_p = imgs_p[..., np.newaxis]\n",
    "    if is_mask:\n",
    "        imgs_p = (imgs_p > 0).astype('float32')\n",
    "\n",
    "    else:\n",
    "        imgs_p = imgs_p.astype('float32')\n",
    "    return imgs_p\n",
    "\n",
    "#We adapt here our dataset samples dimension so that we can feed it to our network"
   ]
  },
  {
   "cell_type": "code",
   "execution_count": 5,
   "metadata": {},
   "outputs": [],
   "source": [
    "# one_weight = (1-num_of_ones)/(num_of_ones + num_of_zeros)\n",
    "# zero_weight = (1-num_of_zeros)/(num_of_ones + num_of_zeros)\n",
    "\n",
    "def weighted_binary_crossentropy(zero_weight, one_weight):\n",
    "\n",
    "    def weighted_binary_crossentropy(y_true, y_pred):\n",
    "\n",
    "        b_ce = K.binary_crossentropy(y_true, y_pred)\n",
    "\n",
    "        # weighted calc\n",
    "        weight_vector = y_true * one_weight + (1 - y_true) * zero_weight\n",
    "        weighted_b_ce = weight_vector * b_ce\n",
    "\n",
    "        return K.mean(weighted_b_ce)\n",
    "\n",
    "    return weighted_binary_crossentropy"
   ]
  },
  {
   "cell_type": "code",
   "execution_count": 7,
   "metadata": {},
   "outputs": [],
   "source": [
    "def save_segmentations(imgs_test, imgs_mask_test, pred_dir='preds'):\n",
    "\n",
    "    if not os.path.exists(pred_dir):\n",
    "        os.mkdir(pred_dir)\n",
    "\n",
    "    for k in range(len(imgs_mask_test)):\n",
    "        a=rescale_intensity(imgs_test[k][:,:,0],out_range=(0,255)).astype(np.uint8)\n",
    "        b=(imgs_mask_test[k][:,:,0] > 0.5).astype('uint8')\n",
    "        io.imsave(os.path.join(pred_dir, f'{k:05}_pred.png'),(255 * mark_boundaries(a,b)).astype(np.uint8))"
   ]
  },
  {
   "cell_type": "code",
   "execution_count": 17,
   "metadata": {
    "execution": {
     "iopub.execute_input": "2023-08-07T14:48:49.762803Z",
     "iopub.status.busy": "2023-08-07T14:48:49.762416Z",
     "iopub.status.idle": "2023-08-07T14:48:49.779037Z",
     "shell.execute_reply": "2023-08-07T14:48:49.777672Z",
     "shell.execute_reply.started": "2023-08-07T14:48:49.762773Z"
    }
   },
   "outputs": [],
   "source": [
    "\n",
    "from __future__ import print_function\n",
    "import keras\n",
    "import tensorflow as tf\n",
    "import os\n",
    "from skimage.transform import resize\n",
    "from skimage.io import imsave\n",
    "import numpy as np\n",
    "def build_callbacks():\n",
    "        checkpointer = ModelCheckpoint(filepath='unet.h5', verbose=0, save_best_only=True, save_weights_only=True)\n",
    "        callbacks = [checkpointer, PlotLearning()]\n",
    "        return callbacks\n",
    "\n",
    "# inheritance for training process plot\n",
    "class PlotLearning(keras.callbacks.Callback):\n",
    "\n",
    "    def on_train_begin(self, logs={}):\n",
    "        self.i = 0\n",
    "        self.x = []\n",
    "        self.losses = []\n",
    "        self.val_losses = []\n",
    "        self.acc = []\n",
    "        self.val_acc = []\n",
    "        #self.fig = plt.figure()\n",
    "        self.logs = []\n",
    "    def on_epoch_end(self, epoch, logs={}):\n",
    "        self.logs.append(logs)\n",
    "        self.x.append(self.i)\n",
    "        self.losses.append(logs.get('loss'))\n",
    "        self.val_losses.append(logs.get('val_loss'))\n",
    "        self.acc.append(logs.get('mean_iou'))\n",
    "        self.val_acc.append(logs.get('val_mean_iou'))\n",
    "        self.i += 1\n",
    "        print('i=',self.i,'loss=',logs.get('loss'),'val_loss=',logs.get('val_loss'),'mean_iou=',logs.get('mean_iou'),'val_mean_iou=',logs.get('val_mean_iou'))\n",
    "\n",
    "        # #choose a random test image and preprocess\n",
    "        # x, y = next(example_generator)\n",
    "        # raw = preprocess(x[:,:,0])[0]\n",
    "        # # raw = raw[:,:,0:3]\n",
    "\n",
    "        # # predict the mask\n",
    "        # pred = model.predict(np.expand_dims(raw, 0))\n",
    "\n",
    "        # #mask post-processing\n",
    "        # msk  = pred.squeeze()\n",
    "        # # msk = np.stack((msk,)*3, axis=-1)\n",
    "        # msk[msk >= 0.5] = 1\n",
    "        # msk[msk < 0.5] = 0\n",
    "\n",
    "        # #show the mask and the segmented image\n",
    "        # combined = np.concatenate([raw, msk, raw* msk], axis = 1)\n",
    "        # plt.axis('off')\n",
    "        # plt.imshow(combined)\n",
    "        # plt.show()from tensorflow.keras.models import Model\n",
    "from tensorflow.keras.layers import Input, concatenate, Conv2D, MaxPooling2D, Conv2DTranspose\n",
    "from tensorflow.keras.optimizers import Adam, SGD\n",
    "from tensorflow.keras.callbacks import ModelCheckpoint\n",
    "from tensorflow.keras import backend as K\n",
    "from tensorflow.keras.callbacks import History\n",
    "from skimage.exposure import rescale_intensity\n",
    "from skimage import io\n",
    "# from data import load_train_data, load_test_data\n",
    "from sklearn.utils import class_weight\n",
    "import pandas as pd\n",
    "# import imma.volumetry_evaluation as ve"
   ]
  },
  {
   "cell_type": "code",
   "execution_count": 18,
   "metadata": {
    "execution": {
     "iopub.execute_input": "2023-08-07T14:48:50.354613Z",
     "iopub.status.busy": "2023-08-07T14:48:50.354226Z",
     "iopub.status.idle": "2023-08-07T14:48:50.362111Z",
     "shell.execute_reply": "2023-08-07T14:48:50.360739Z",
     "shell.execute_reply.started": "2023-08-07T14:48:50.354582Z"
    }
   },
   "outputs": [],
   "source": [
    "# one_weight = (1-num_of_ones)/(num_of_ones + num_of_zeros)\n",
    "# zero_weight = (1-num_of_zeros)/(num_of_ones + num_of_zeros)\n",
    "\n",
    "def weighted_binary_crossentropy(zero_weight, one_weight):\n",
    "\n",
    "    def weighted_binary_crossentropy(y_true, y_pred):\n",
    "\n",
    "        b_ce = K.binary_crossentropy(y_true, y_pred)\n",
    "\n",
    "        # weighted calc\n",
    "        weight_vector = y_true * one_weight + (1 - y_true) * zero_weight\n",
    "        weighted_b_ce = weight_vector * b_ce\n",
    "\n",
    "        return K.mean(weighted_b_ce)\n",
    "\n",
    "    return weighted_binary_crossentropy"
   ]
  },
  {
   "cell_type": "code",
   "execution_count": 19,
   "metadata": {
    "execution": {
     "iopub.execute_input": "2023-08-07T14:48:50.931398Z",
     "iopub.status.busy": "2023-08-07T14:48:50.930885Z",
     "iopub.status.idle": "2023-08-07T14:48:50.956748Z",
     "shell.execute_reply": "2023-08-07T14:48:50.955480Z",
     "shell.execute_reply.started": "2023-08-07T14:48:50.931358Z"
    }
   },
   "outputs": [],
   "source": [
    "def get_unet2(class_weights=None):\n",
    "    if class_weights is None:\n",
    "        class_weights = [0.05956, 3.11400]\n",
    "        #{0: 0.5956388648542532, 1: 3.1140000760253925}\n",
    "\n",
    "    inputs = Input((img_rows, img_cols, 1))\n",
    "    conv1 = Conv2D(32, (3, 3), activation='relu', padding='same')(inputs)\n",
    "    conv1 = Conv2D(32, (3, 3), activation='relu', padding='same')(conv1)\n",
    "    pool1 = MaxPooling2D(pool_size=(2, 2))(conv1)\n",
    "\n",
    "    conv2 = Conv2D(64, (3, 3), activation='relu', padding='same')(pool1)\n",
    "    conv2 = Conv2D(64, (3, 3), activation='relu', padding='same')(conv2)\n",
    "    pool2 = MaxPooling2D(pool_size=(2, 2))(conv2)\n",
    "\n",
    "    conv3 = Conv2D(128, (3, 3), activation='relu', padding='same')(pool2)\n",
    "    conv3 = Conv2D(128, (3, 3), activation='relu', padding='same')(conv3)\n",
    "    pool3 = MaxPooling2D(pool_size=(2, 2))(conv3)\n",
    "\n",
    "    conv4 = Conv2D(256, (3, 3), activation='relu', padding='same')(pool3)\n",
    "    conv4 = Conv2D(256, (3, 3), activation='relu', padding='same')(conv4)\n",
    "    pool4 = MaxPooling2D(pool_size=(2, 2))(conv4)\n",
    "\n",
    "    conv5 = Conv2D(512, (3, 3), activation='relu', padding='same')(pool4)\n",
    "    conv5 = Conv2D(512, (3, 3), activation='relu', padding='same')(conv5)\n",
    "\n",
    "    up6 = concatenate([Conv2DTranspose(256, (2, 2), strides=(2, 2), padding='same')(conv5), conv4], axis=3)\n",
    "    conv6 = Conv2D(256, (3, 3), activation='relu', padding='same')(up6)\n",
    "    conv6 = Conv2D(256, (3, 3), activation='relu', padding='same')(conv6)\n",
    "\n",
    "    up7 = concatenate([Conv2DTranspose(128, (2, 2), strides=(2, 2), padding='same')(conv6), conv3], axis=3)\n",
    "    conv7 = Conv2D(128, (3, 3), activation='relu', padding='same')(up7)\n",
    "    conv7 = Conv2D(128, (3, 3), activation='relu', padding='same')(conv7)\n",
    "\n",
    "    up8 = concatenate([Conv2DTranspose(64, (2, 2), strides=(2, 2), padding='same')(conv7), conv2], axis=3)\n",
    "    conv8 = Conv2D(64, (3, 3), activation='relu', padding='same')(up8)\n",
    "    conv8 = Conv2D(64, (3, 3), activation='relu', padding='same')(conv8)\n",
    "\n",
    "    up9 = concatenate([Conv2DTranspose(32, (2, 2), strides=(2, 2), padding='same')(conv8), conv1], axis=3)\n",
    "    conv9 = Conv2D(32, (3, 3), activation='relu', padding='same')(up9)\n",
    "    conv9 = Conv2D(32, (3, 3), activation='relu', padding='same')(conv9)\n",
    "\n",
    "    conv10 = Conv2D(1, (1, 1), activation='sigmoid')(conv9)\n",
    "#     conv10 = Conv2D(2, (1, 1), activation='softmax')(conv9)\n",
    "\n",
    "    model = Model(inputs=[inputs], outputs=[conv10])\n",
    "\n",
    "    model.compile(optimizer='SGD',  loss=weighted_binary_crossentropy(class_weights[0], class_weights[1]), metrics=[dice_coef, \"accuracy\", IoU])\n",
    "    #opt = keras.optimizers.SGD(learning_rate=0.001)\n",
    "    #optimizer = 'rmsprop'\n",
    "    #optimizer = 'rmsprop'\n",
    "\n",
    "    #optimaizer pro detectron = sgd?\n",
    "    return model\n",
    "\n",
    "#The different layers in our neural network model (including convolutions, maxpooling and upsampling)"
   ]
  },
  {
   "cell_type": "code",
   "execution_count": 20,
   "metadata": {
    "execution": {
     "iopub.execute_input": "2023-08-07T14:48:52.371576Z",
     "iopub.status.busy": "2023-08-07T14:48:52.370617Z",
     "iopub.status.idle": "2023-08-07T14:48:52.393173Z",
     "shell.execute_reply": "2023-08-07T14:48:52.391798Z",
     "shell.execute_reply.started": "2023-08-07T14:48:52.371535Z"
    }
   },
   "outputs": [],
   "source": [
    "#trainData=return(maskForTrain,pngForTrain,dataIdTren,slideIdTren)\n",
    "#def train_and_predict(filename, continue_training=False, epochs=3):\n",
    "def train_and_predict_generator(continue_training=False, epochs=3):\n",
    "# if True:\n",
    "    name=\"/kaggle/input/patients/Test2Pacienty.h5\"\n",
    "    name_random=\"random.h5\"\n",
    "\n",
    "\n",
    "    print('-'*30)\n",
    "    print('Loading and preprocessing train data...')\n",
    "    print('-'*30)\n",
    "\n",
    "\n",
    "    imgs_train, imgs_mask_train=read_h5_2(name)\n",
    "    #imgs_train = preprocess(imgs_train)\n",
    "    #imgs_mask_train = preprocess(imgs_mask_train, is_mask=True)\n",
    "\n",
    "\n",
    "    #imgs_train = imgs_train.astype('float32')\n",
    "    #mean = np.mean(imgs_train)  # mean for data centering\n",
    "    #std = np.std(imgs_train)  # std for data normalization\n",
    "\n",
    "    #imgs_train -= mean\n",
    "    #imgs_train /= std\n",
    "    #Normalization of the train set\n",
    "\n",
    "    #imgs_mask_train = (imgs_mask_train > 0).astype('float32')\n",
    "\n",
    "    y_train = imgs_mask_train\n",
    "    # Calculate the weights for each class so that we can balance the data\n",
    "    cl_weights = class_weight.compute_class_weight(\n",
    "        class_weight='balanced',\n",
    "        classes=np.unique(y_train.flatten()),\n",
    "        y=y_train.flatten()\n",
    "    )\n",
    "\n",
    "    print(f\"weights={cl_weights}\")\n",
    "    cl_weights_dct = dict(enumerate(cl_weights))\n",
    "\n",
    "    print('-'*30)\n",
    "    print('Creating and compiling model...')\n",
    "    print(cl_weights)\n",
    "    print('-'*30)\n",
    "    model = get_unet2(cl_weights)\n",
    "    if continue_training:\n",
    "        model.load_weights('/kaggle/input/weights/weights.h5')\n",
    "\n",
    "    model_checkpoint = ModelCheckpoint('weights.h5', monitor='val_loss', save_best_only=True)\n",
    "    #Saving the weights and the loss of the best predictions we obtained\n",
    "    print(f\"model={model}\")\n",
    "\n",
    "\n",
    "\n",
    "    print('-'*30)\n",
    "    print('Fitting model...')\n",
    "    print('-'*30)\n",
    "\n",
    "    num_samples = 1500\n",
    "    generate_random_numbers_callback = GenerateRandomNumbersCallback(num_samples)\n",
    "\n",
    "    history=model.fit(\n",
    "        x=generate_random_numbers_callback.processed_imgs_train,\n",
    "        y=generate_random_numbers_callback.processed_imgs_mask_train,\n",
    "        batch_size=20,\n",
    "        epochs=epochs, verbose=1, shuffle=True,\n",
    "        validation_split=0.2,\n",
    "        callbacks=[\n",
    "            generate_random_numbers_callback,\n",
    "            model_checkpoint,\n",
    "            tf.keras.callbacks.TensorBoard(log_dir='./logs')\n",
    "        ],\n",
    "#                 class_weight=weights_dct # tohle nefunguje pro 4d data\n",
    "                     )\n",
    "\n",
    "    print('-'*30)\n",
    "    print('Loading and preprocessing test data...')\n",
    "    print('-'*30)\n",
    "    test_h5_filename=\"/kaggle/input/patients/Test2Pacienty.h5\"\n",
    "    imgs_test, imgs_maskt= read_h5_2(test_h5_filename)\n",
    "    imgs_test = resizes(imgs_test)\n",
    "    imgs_maskt = preprocess(imgs_maskt, is_mask=True)\n",
    "\n",
    "\n",
    "    # TODO remove this limit\n",
    "#     imgs_test = imgs_test[50:65]\n",
    "#     imgs_maskt = imgs_maskt[50:65]\n",
    "    mean = np.mean(imgs_test)  # mean for data centering\n",
    "    std = np.std(imgs_test)  # std for data normalization\n",
    "    imgs_train -= mean\n",
    "    imgs_train /= std\n",
    "\n",
    "\n",
    "    #imgs_test = imgs_test.astype('float32')\n",
    "    imgs_test -= mean\n",
    "    imgs_test /= std\n",
    "    #Normalization of the test set\n",
    "\n",
    "    # TODO remove this part\n",
    "    # going to test on train set\n",
    "#     imgs_test = imgs_train\n",
    "#     imgs_maskt = imgs_mask_train\n",
    "\n",
    "\n",
    "\n",
    "    print('-'*30)\n",
    "    print('Predicting masks on test data...')\n",
    "    print('-'*30)\n",
    "    imgs_mask_test = model.predict(imgs_test, verbose=1)\n",
    "    np.save('imgs_mask_test.npy', imgs_mask_test)\n",
    "    print('-' * 30)\n",
    "    print('Saving predicted masks to files...')\n",
    "    print('-' * 30)\n",
    "\n",
    "    #Saving our predictions in the directory 'preds'\n",
    "    #save_segmentations(imgs_test, imgs_mask_test)\n",
    "\n",
    "    plt.plot(history.history['dice_coef'])\n",
    "    plt.plot(history.history['val_dice_coef'])\n",
    "    plt.title('Model dice coeff')\n",
    "    plt.ylabel('Dice coeff')\n",
    "    plt.xlabel('Epoch')\n",
    "    plt.legend(['Train', 'Test'], loc='upper left')\n",
    "    plt.show()\n",
    "    \n",
    "    plt.figure()\n",
    "    plt.plot(history.history['IoU'])\n",
    "    plt.plot(history.history['val_IoU'])\n",
    "    plt.title('Model dice coeff')\n",
    "    plt.ylabel('Dice coeff')\n",
    "    plt.xlabel('Epoch')\n",
    "    plt.legend(['Train', 'Test'], loc='upper left')\n",
    "    plt.show()\n",
    "    #skimage.io.imwrite()\n",
    "    #plotting our dice coeff results in function of the number of epochs\n",
    "\n",
    "    return imgs_train, imgs_mask_train"
   ]
  },
  {
   "cell_type": "code",
   "execution_count": null,
   "metadata": {},
   "outputs": [],
   "source": []
  },
  {
   "cell_type": "code",
   "execution_count": 21,
   "metadata": {
    "execution": {
     "iopub.execute_input": "2023-08-07T14:48:53.299064Z",
     "iopub.status.busy": "2023-08-07T14:48:53.298570Z",
     "iopub.status.idle": "2023-08-07T14:48:53.307706Z",
     "shell.execute_reply": "2023-08-07T14:48:53.306299Z",
     "shell.execute_reply.started": "2023-08-07T14:48:53.299026Z"
    }
   },
   "outputs": [],
   "source": [
    "def read_h5(filename):\n",
    "    hf = h5py.File(filename, 'r')\n",
    "    logger.debug(hf.keys())\n",
    "    imgs_train = hf[f\"imgs\"]\n",
    "    masks_train = hf[f\"masks\"]\n",
    "    data_id=hf[f\"data_id\"]\n",
    "    slide_id=hf[f\"slide_id\"]\n",
    "    return(imgs_train,masks_train,data_id,slide_id)"
   ]
  },
  {
   "cell_type": "code",
   "execution_count": 23,
   "metadata": {
    "execution": {
     "iopub.execute_input": "2023-08-07T14:48:54.659231Z",
     "iopub.status.busy": "2023-08-07T14:48:54.658672Z",
     "iopub.status.idle": "2023-08-07T14:48:54.667160Z",
     "shell.execute_reply": "2023-08-07T14:48:54.665547Z",
     "shell.execute_reply.started": "2023-08-07T14:48:54.659145Z"
    }
   },
   "outputs": [],
   "source": [
    "def read_h5_gen(filename):\n",
    "    hf = h5py.File(filename, 'r')\n",
    "    logger.debug(hf.keys())\n",
    "    imgs_train = hf[f\"imgs\"]\n",
    "    masks_train = hf[f\"masks\"]\n",
    "    return(imgs_train)"
   ]
  },
  {
   "cell_type": "code",
   "execution_count": 24,
   "metadata": {
    "execution": {
     "iopub.execute_input": "2023-08-07T14:48:55.035233Z",
     "iopub.status.busy": "2023-08-07T14:48:55.034766Z",
     "iopub.status.idle": "2023-08-07T14:48:55.045909Z",
     "shell.execute_reply": "2023-08-07T14:48:55.044746Z",
     "shell.execute_reply.started": "2023-08-07T14:48:55.035182Z"
    }
   },
   "outputs": [],
   "source": [
    "import tensorflow as tf\n",
    "class GenerateRandomNumbersCallback(tf.keras.callbacks.Callback):\n",
    "    def __init__(self, num_samples):\n",
    "        super(GenerateRandomNumbersCallback, self).__init__()\n",
    "        self.num_samples = num_samples\n",
    "        random_numbers = random.choices([33, 32, 34, 35, 36, 37, 38, 39, 44, 45, 46])\n",
    "        print(random_numbers)\n",
    "        processed_imgs_train, processed_imgs_mask_train = random_patient(random_numbers)\n",
    "        print(len(processed_imgs_train))\n",
    "        self.processed_imgs_train = processed_imgs_train\n",
    "        self.processed_imgs_mask_train = processed_imgs_mask_train\n",
    "\n",
    "    def on_epoch_begin(self, epoch, logs=None):\n",
    "        random_numbers = random.choices([33, 32, 34, 35, 36, 37, 38, 39, 44, 45, 46])\n",
    "        print(\"length random_numbers: \"+str(len(random_numbers)))\n",
    "        processed_imgs_train, processed_imgs_mask_train = random_patient(random_numbers)\n",
    "        print(\"length processed_imgs_train: \"+ str(len(processed_imgs_train)))\n",
    "        print(\"length processed_imgs_mask_train: \"+ str(len(processed_imgs_mask_train)))\n",
    "        self.processed_imgs_train = processed_imgs_train\n",
    "        self.processed_imgs_mask_train = processed_imgs_mask_train"
   ]
  },
  {
   "cell_type": "code",
   "execution_count": 10,
   "metadata": {},
   "outputs": [],
   "source": [
    "def resizes (images): #original preprocess ruins our original images. We use this code for image preprocess to save information\n",
    "  num_images=len(images)\n",
    "  resized_images = np.zeros((num_images, 256, 256, 1))  # Создайте массив для измененных изображений\n",
    "\n",
    "  for i in range(num_images):\n",
    "      resized_image = cv2.resize(images[i], (256, 256))\n",
    "      resized_images[i] = resized_image[..., np.newaxis]\n",
    "  return(resized_images)"
   ]
  },
  {
   "cell_type": "code",
   "execution_count": 26,
   "metadata": {
    "execution": {
     "iopub.execute_input": "2023-08-07T14:48:56.307710Z",
     "iopub.status.busy": "2023-08-07T14:48:56.307290Z",
     "iopub.status.idle": "2023-08-07T14:48:56.316146Z",
     "shell.execute_reply": "2023-08-07T14:48:56.315276Z",
     "shell.execute_reply.started": "2023-08-07T14:48:56.307668Z"
    }
   },
   "outputs": [],
   "source": [
    "def random_patient(patient_id):\n",
    "  h5Files={} #import here path to .h5 of all your patients from training dataset\n",
    "  #h5Files[33]=\"/kaggle/input/patients/33.h5\"\n",
    "  #h5Files[32]=\"/kaggle/input/patients/32.h5\"\n",
    "  #h5Files[34]=\"/kaggle/input/patients/34.h5\"\n",
    "  #h5Files[35]=\"/kaggle/input/patients/35.h5\"\n",
    "  #h5Files[36]=\"/kaggle/input/patients/36.h5\"\n",
    "  #h5Files[37]=\"/kaggle/input/patients/37.h5\"\n",
    " #h5Files[38]=\"/kaggle/input/patients/38.h5\"\n",
    "  #h5Files[39]=\"/kaggle/input/patients/39.h5\"\n",
    "  #h5Files[44]=\"/kaggle/input/patients/44.h5\"\n",
    "  #h5Files[45]=\"/kaggle/input/patients/45.h5\"\n",
    "  #h5Files[46]=\"/kaggle/input/patients/46.h5\"\n",
    "  images,masks=read_h5_gen2(h5Files[patient_id[0]])\n",
    "  imgs_train=resizes(images)\n",
    "  #imgs_train = preprocess(images)\n",
    "  #imgs_train = imgs_train.astype('float32')\n",
    "  mean = np.mean(imgs_train)  # mean for data centering\n",
    "  std = np.std(imgs_train)  # std for data normalization\n",
    "  imgs_train -= mean\n",
    "  imgs_train /= std\n",
    "\n",
    "  imgs_mask_train = preprocess(masks, is_mask=True)\n",
    "\n",
    "  return(imgs_train,imgs_mask_train)"
   ]
  },
  {
   "cell_type": "code",
   "execution_count": 27,
   "metadata": {
    "execution": {
     "iopub.execute_input": "2023-08-07T14:48:57.066603Z",
     "iopub.status.busy": "2023-08-07T14:48:57.066139Z",
     "iopub.status.idle": "2023-08-07T14:48:57.073527Z",
     "shell.execute_reply": "2023-08-07T14:48:57.072169Z",
     "shell.execute_reply.started": "2023-08-07T14:48:57.066568Z"
    }
   },
   "outputs": [],
   "source": [
    "def read_h5_gen2(filename):\n",
    "  with h5py.File(filename, 'r') as h5file:\n",
    "    imgs_train = h5file['imgs'][:]  \n",
    "    masks_train = h5file['masks'][:]\n",
    "  return(imgs_train,masks_train)"
   ]
  },
  {
   "cell_type": "code",
   "execution_count": 28,
   "metadata": {
    "execution": {
     "iopub.execute_input": "2023-08-07T14:48:57.426697Z",
     "iopub.status.busy": "2023-08-07T14:48:57.426271Z",
     "iopub.status.idle": "2023-08-07T14:48:57.436387Z",
     "shell.execute_reply": "2023-08-07T14:48:57.435349Z",
     "shell.execute_reply.started": "2023-08-07T14:48:57.426663Z"
    }
   },
   "outputs": [],
   "source": [
    "#If your intention is to randomize images instead of randomizing patients. \n",
    "# This variant leads to prohability of rundomizing the dataset entirely composed of images, and there are no with masks during the iterations.\n",
    "def random_slides_to_train(imgs_path, masks_path, data_id_path, slide_id_path,name, slide_numbers): \n",
    "    random_numbers = random.sample(range(9364), slide_numbers)\n",
    "    imgs_random=[]\n",
    "    masks_random=[]\n",
    "    data_id_random=[]\n",
    "    slide_numbers=[]\n",
    "\n",
    "    for i in random_numbers:\n",
    "      imgs_random.append(imgs_path[i])\n",
    "      masks_random.append(masks_path[i])\n",
    "      data_id_random.append(data_id_path[i])\n",
    "      slide_numbers.append(slide_id_path[i])\n",
    "\n",
    "    filename=name\n",
    "\n",
    "    with h5py.File(filename, 'w') as hf:\n",
    "        hf.create_dataset(f\"imgs\", data=imgs_random)\n",
    "        hf.create_dataset(f\"masks\",data=masks_random)\n",
    "        hf.create_dataset(f\"slide_id\", data=np.array(slide_numbers, dtype=np.uint8))\n",
    "        hf.create_dataset(f\"data_id\", data=np.array(data_id_random, dtype=np.uint8))\n",
    "\n",
    "    return()"
   ]
  },
  {
   "cell_type": "code",
   "execution_count": 29,
   "metadata": {
    "execution": {
     "iopub.execute_input": "2023-08-07T14:48:57.931821Z",
     "iopub.status.busy": "2023-08-07T14:48:57.931016Z",
     "iopub.status.idle": "2023-08-07T14:48:57.939711Z",
     "shell.execute_reply": "2023-08-07T14:48:57.938461Z",
     "shell.execute_reply.started": "2023-08-07T14:48:57.931783Z"
    }
   },
   "outputs": [],
   "source": [
    "def random_slides_to_train_iterative_1(imgs_path, name, random_numbers):\n",
    "    random_numbers = random_numbers\n",
    "    imgs_random=[]\n",
    "    imgs_path=read_h5_imgs_and_masks(imgs_path)\n",
    "    for i in random_numbers:\n",
    "      imgs_random.append(imgs_path[i])\n",
    "\n",
    "    filename=name\n",
    "\n",
    "    with h5py.File(filename, 'w') as hf:\n",
    "        hf.create_dataset(f\"imges\", data=imgs_random)\n",
    "\n",
    "    imgs_train=read_h5_imgs_and_masks(filename)\n",
    "    imgs_train = preprocess(imgs_train)\n",
    "    #imgs_train = imgs_train.astype('float32')\n",
    "    mean = np.mean(imgs_train)  # mean for data centering\n",
    "    std = np.std(imgs_train)  # std for data normalization\n",
    "\n",
    "    imgs_train -= mean\n",
    "    imgs_train /= std\n",
    "    return(imgs_train)"
   ]
  },
  {
   "cell_type": "code",
   "execution_count": 30,
   "metadata": {
    "execution": {
     "iopub.execute_input": "2023-08-07T14:48:58.363326Z",
     "iopub.status.busy": "2023-08-07T14:48:58.362846Z",
     "iopub.status.idle": "2023-08-07T14:48:58.371730Z",
     "shell.execute_reply": "2023-08-07T14:48:58.370327Z",
     "shell.execute_reply.started": "2023-08-07T14:48:58.363292Z"
    }
   },
   "outputs": [],
   "source": [
    "def random_slides_to_train_iterative_2(masks_path, name, random_numbers):\n",
    "    random_numbers = random_numbers\n",
    "    masks_random=[]\n",
    "    masks_path=read_h5_imgs_and_masks(masks_path)\n",
    "    for i in random_numbers:\n",
    "      masks_random.append(masks_path[i])\n",
    "\n",
    "    filename=name\n",
    "\n",
    "    with h5py.File(filename, 'w') as hf:\n",
    "        hf.create_dataset(f\"masks\",data=masks_random)\n",
    "    imgs_mask_train=read_h5_imgs_masks(name)\n",
    "    imgs_mask_train = preprocess(imgs_mask_train, is_mask=True)\n",
    "    return(imgs_mask_train)"
   ]
  },
  {
   "cell_type": "code",
   "execution_count": 34,
   "metadata": {
    "execution": {
     "iopub.execute_input": "2023-08-06T12:24:34.691710Z",
     "iopub.status.busy": "2023-08-06T12:24:34.690979Z",
     "iopub.status.idle": "2023-08-06T12:24:34.696182Z",
     "shell.execute_reply": "2023-08-06T12:24:34.695114Z",
     "shell.execute_reply.started": "2023-08-06T12:24:34.691642Z"
    }
   },
   "outputs": [],
   "source": [
    "import cv2\n"
   ]
  },
  {
   "cell_type": "code",
   "execution_count": 1,
   "metadata": {},
   "outputs": [
    {
     "ename": "NameError",
     "evalue": "name 'train_and_predict_generator' is not defined",
     "output_type": "error",
     "traceback": [
      "\u001b[1;31m---------------------------------------------------------------------------\u001b[0m",
      "\u001b[1;31mNameError\u001b[0m                                 Traceback (most recent call last)",
      "\u001b[1;32m<ipython-input-1-a1a210f8ab4f>\u001b[0m in \u001b[0;36m<module>\u001b[1;34m\u001b[0m\n\u001b[1;32m----> 1\u001b[1;33m \u001b[0mtrain_and_predict_generator\u001b[0m\u001b[1;33m(\u001b[0m \u001b[0mcontinue_training\u001b[0m\u001b[1;33m=\u001b[0m\u001b[1;32mTrue\u001b[0m\u001b[1;33m,\u001b[0m \u001b[0mepochs\u001b[0m\u001b[1;33m=\u001b[0m\u001b[1;36m700\u001b[0m\u001b[1;33m)\u001b[0m\u001b[1;33m\u001b[0m\u001b[1;33m\u001b[0m\u001b[0m\n\u001b[0m",
      "\u001b[1;31mNameError\u001b[0m: name 'train_and_predict_generator' is not defined"
     ]
    }
   ],
   "source": [
    "train_and_predict_generator( continue_training=False, epochs=1000)"
   ]
  },
  {
   "cell_type": "code",
   "execution_count": 31,
   "metadata": {
    "execution": {
     "iopub.execute_input": "2023-08-07T14:49:06.262596Z",
     "iopub.status.busy": "2023-08-07T14:49:06.261916Z",
     "iopub.status.idle": "2023-08-07T14:49:31.983079Z",
     "shell.execute_reply": "2023-08-07T14:49:31.981913Z",
     "shell.execute_reply.started": "2023-08-07T14:49:06.262542Z"
    }
   },
   "outputs": [
    {
     "name": "stdout",
     "output_type": "stream",
     "text": [
      "Number of frames=724\n"
     ]
    }
   ],
   "source": [
    "test_h5_filename=\"/kaggle/input/patients/Test2Pacienty.h5\" # import your test dataset as h5 file\n",
    "imgs_test, imgs_maskt= read_h5_2(test_h5_filename)\n",
    "imgs_test = resizes(imgs_test)\n",
    "imgs_maskt = preprocess(imgs_maskt, is_mask=True)\n",
    "#imgs_train = imgs_test.astype('float32')\n",
    "mean = np.mean(imgs_test)  # mean for data centering\n",
    "std = np.std(imgs_test)  # std for data normalization\n",
    "\n",
    "imgs_test -= mean\n",
    "imgs_test /= std\n",
    "#Normalization of the train set\n",
    "\n",
    "#imgs_mask_test = imgs_mask_test.astype('float32')\n",
    "\n",
    "print(f\"Number of frames={imgs_test.shape[0]}\")"
   ]
  },
  {
   "cell_type": "code",
   "execution_count": 1,
   "metadata": {},
   "outputs": [
    {
     "ename": "NameError",
     "evalue": "name 'get_unet2' is not defined",
     "output_type": "error",
     "traceback": [
      "\u001b[1;31m---------------------------------------------------------------------------\u001b[0m",
      "\u001b[1;31mNameError\u001b[0m                                 Traceback (most recent call last)",
      "\u001b[1;32m<ipython-input-1-d04a05366779>\u001b[0m in \u001b[0;36m<module>\u001b[1;34m\u001b[0m\n\u001b[1;32m----> 1\u001b[1;33m \u001b[0mmodel\u001b[0m \u001b[1;33m=\u001b[0m \u001b[0mget_unet2\u001b[0m\u001b[1;33m(\u001b[0m\u001b[1;33m)\u001b[0m\u001b[1;33m\u001b[0m\u001b[1;33m\u001b[0m\u001b[0m\n\u001b[0m\u001b[0;32m      2\u001b[0m \u001b[1;33m\u001b[0m\u001b[0m\n\u001b[0;32m      3\u001b[0m \u001b[1;31m# model.load_weights('weights_liver_slides.h5')\u001b[0m\u001b[1;33m\u001b[0m\u001b[1;33m\u001b[0m\u001b[1;33m\u001b[0m\u001b[0m\n\u001b[0;32m      4\u001b[0m \u001b[0mmodel\u001b[0m\u001b[1;33m.\u001b[0m\u001b[0mload_weights\u001b[0m\u001b[1;33m(\u001b[0m\u001b[1;34m'F:/WEIGHT/weightsV2.h5'\u001b[0m\u001b[1;33m)\u001b[0m \u001b[1;31m# load your weights from training\u001b[0m\u001b[1;33m\u001b[0m\u001b[1;33m\u001b[0m\u001b[0m\n\u001b[0;32m      5\u001b[0m \u001b[1;33m\u001b[0m\u001b[0m\n",
      "\u001b[1;31mNameError\u001b[0m: name 'get_unet2' is not defined"
     ]
    }
   ],
   "source": [
    "model = get_unet2()\n",
    "\n",
    "# model.load_weights('weights_liver_slides.h5')\n",
    "model.load_weights('F:/WEIGHT/weightsV2.h5') # load your weights from training\n",
    "\n",
    "print('-'*30)\n",
    "print('Predicting masks on test data...')\n",
    "print('-'*30)\n",
    "\n",
    "imgs_mask_test_pred = model.predict(imgs_test, verbose=1)"
   ]
  },
  {
   "cell_type": "code",
   "execution_count": 39,
   "metadata": {
    "execution": {
     "iopub.execute_input": "2023-08-07T15:07:56.382880Z",
     "iopub.status.busy": "2023-08-07T15:07:56.382336Z",
     "iopub.status.idle": "2023-08-07T15:07:56.881526Z",
     "shell.execute_reply": "2023-08-07T15:07:56.880186Z",
     "shell.execute_reply.started": "2023-08-07T15:07:56.382843Z"
    }
   },
   "outputs": [
    {
     "data": {
      "text/plain": [
       "<matplotlib.contour.QuadContourSet at 0x78d0345af880>"
      ]
     },
     "execution_count": 39,
     "metadata": {},
     "output_type": "execute_result"
    },
    {
     "data": {
      "image/png": "[encoded data removed]",
      "text/plain": [
       "<Figure size 640x480 with 2 Axes>"
      ]
     },
     "metadata": {},
     "output_type": "display_data"
    }
   ],
   "source": [
    "#Visualize the slide and its masks using information from the teacher as well as the segmentation results from the network,\n",
    "#in order to facilitate a comparison\n",
    "slide =200\n",
    "plt.imshow(imgs_test[slide,:,:,0], cmap='gray')\n",
    "plt.colorbar()\n",
    "plt.contour(imgs_mask_test_pred[i,:,:,0]>0.5)\n",
    "plt.contour(imgs_maskt[slide,:,:,0]>0.5, colors=\"red\")"
   ]
  },
  {
   "cell_type": "code",
   "execution_count": 40,
   "metadata": {
    "execution": {
     "iopub.execute_input": "2023-08-07T15:08:01.180761Z",
     "iopub.status.busy": "2023-08-07T15:08:01.180299Z",
     "iopub.status.idle": "2023-08-07T15:08:01.821976Z",
     "shell.execute_reply": "2023-08-07T15:08:01.820511Z",
     "shell.execute_reply.started": "2023-08-07T15:08:01.180700Z"
    }
   },
   "outputs": [
    {
     "data": {
      "text/plain": [
       "<tf.Tensor: shape=(), dtype=float32, numpy=0.6412921>"
      ]
     },
     "execution_count": 40,
     "metadata": {},
     "output_type": "execute_result"
    }
   ],
   "source": [
    "IoU(imgs_maskt,imgs_mask_test_pred)"
   ]
  }
 ],
 "metadata": {
  "kernelspec": {
   "display_name": "Python 3",
   "language": "python",
   "name": "python3"
  },
  "language_info": {
   "codemirror_mode": {
    "name": "ipython",
    "version": 3
   },
   "file_extension": ".py",
   "mimetype": "text/x-python",
   "name": "python",
   "nbconvert_exporter": "python",
   "pygments_lexer": "ipython3",
   "version": "3.7.4"
  }
 },
 "nbformat": 4,
 "nbformat_minor": 4
}
